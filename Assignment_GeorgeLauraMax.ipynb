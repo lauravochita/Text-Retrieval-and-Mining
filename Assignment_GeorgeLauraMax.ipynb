{
  "cells": [
    {
      "cell_type": "markdown",
      "metadata": {
        "id": "_mXjosWrhqd0"
      },
      "source": [
        "# Text Retrieval and Mining - Data Science Minor - Assignment\n",
        "\n",
        "Data Science Minor\n",
        "\n",
        "Faculty of Economics and Business\n",
        "\n",
        "University of Amsterdam\n",
        "\n",
        "Authors: Claudia Orellana Rodriguez, [Julien Rossi](mailto://j.rossi@uva.nl)"
      ]
    },
    {
      "cell_type": "markdown",
      "metadata": {
        "id": "8HNQ0FG8ybFK"
      },
      "source": [
        "# Student Group\n",
        "\n",
        "* Student 1 George Christian Cotea (13842013)\n",
        "* Student 2 Laura Maria Vochita (13982540)\n",
        "* Student 3 Maximilian Luca Johannes Arnold Wahnke (13834541)"
      ]
    },
    {
      "cell_type": "markdown",
      "metadata": {
        "id": "IGK__XQfGYVv"
      },
      "source": [
        "# Instructions"
      ]
    },
    {
      "cell_type": "markdown",
      "metadata": {
        "id": "g8wD6iFIGcX_"
      },
      "source": [
        "* This assignment is a group assignment\n",
        "* Submit this notebook through Canvas\n",
        "* The assignment is made of 3 questions\n",
        "* The assignment includes an oral presentation in which you will describe your work and justify your answers\n",
        "\n",
        "___\n",
        "\n",
        "\n",
        "**GRADING**\n",
        "* Question 1: 5 points\n",
        "* Question 2: 10 points\n",
        "* Question 3: 5 points\n"
      ]
    },
    {
      "cell_type": "markdown",
      "metadata": {
        "id": "TxPpheCPDv37"
      },
      "source": [
        "#Floods in Malawi\n",
        "\n",
        "For this assigment you are provided a collection of news articles from Malawi's main news media - 4 news media in total. The articles, published between January and April 2019, cover the occurrence of floods around the country.\n",
        "\n",
        "Using these text files, your assignment consists of 3 questions:\n",
        "\n",
        "1.   Extract top-10 terms or keywords per document.\n",
        "\n",
        "2.   Extract the polarity of each news article. The polarity tells us if a text is positive, negative, or neutral.\n",
        "\n",
        "3. Extract the named entities mentioned in the news articles.\n"
      ]
    },
    {
      "cell_type": "markdown",
      "metadata": {
        "id": "3hTdRa3_iBNW"
      },
      "source": [
        "## Setup\n",
        "\n"
      ]
    },
    {
      "cell_type": "markdown",
      "metadata": {
        "id": "Fr21qaQNGtjg"
      },
      "source": [
        "## Dataset"
      ]
    },
    {
      "cell_type": "markdown",
      "metadata": {
        "id": "eQwGEL63GvkV"
      },
      "source": [
        "* You can access the dataset here: https://raw.githubusercontent.com/j-rossi-nl/teaching-data/main/2024_TRTM/malawi_news_2019.txt\n",
        "* It is one CSV file using `\"\\t\"` as a separator\n",
        "* It can be loaded into a pandas DataFrame using `pd.read_csv(URL, sep=\"\\t\")`\n",
        "* The dataset is made of 137 news articles"
      ]
    },
    {
      "cell_type": "markdown",
      "metadata": {
        "id": "g6-b565Ivsn5"
      },
      "source": [
        "## Tools"
      ]
    },
    {
      "cell_type": "markdown",
      "metadata": {
        "id": "7dsod7jW4jwc"
      },
      "source": [
        "* SKLearn CountVectorizer, TfidfVectorizer, Lasso\n",
        "* SpaCy [Documentation](https://spacy.io/usage)\n",
        "* Textblob [Documentation](https://textblob.readthedocs.io/en/dev/)"
      ]
    },
    {
      "cell_type": "code",
      "execution_count": null,
      "metadata": {
        "colab": {
          "base_uri": "https://localhost:8080/"
        },
        "id": "eV9bZNwEvr73",
        "outputId": "17eb5b21-5409-4ff0-f62d-a9715950a8b6"
      },
      "outputs": [
        {
          "output_type": "stream",
          "name": "stdout",
          "text": [
            "Requirement already satisfied: spacy in /usr/local/lib/python3.10/dist-packages (3.6.1)\n",
            "Requirement already satisfied: en_core_web_sm in /usr/local/lib/python3.10/dist-packages (3.6.0)\n",
            "Requirement already satisfied: textblob in /usr/local/lib/python3.10/dist-packages (0.17.1)\n",
            "Requirement already satisfied: spacy-legacy<3.1.0,>=3.0.11 in /usr/local/lib/python3.10/dist-packages (from spacy) (3.0.12)\n",
            "Requirement already satisfied: spacy-loggers<2.0.0,>=1.0.0 in /usr/local/lib/python3.10/dist-packages (from spacy) (1.0.5)\n",
            "Requirement already satisfied: murmurhash<1.1.0,>=0.28.0 in /usr/local/lib/python3.10/dist-packages (from spacy) (1.0.10)\n",
            "Requirement already satisfied: cymem<2.1.0,>=2.0.2 in /usr/local/lib/python3.10/dist-packages (from spacy) (2.0.8)\n",
            "Requirement already satisfied: preshed<3.1.0,>=3.0.2 in /usr/local/lib/python3.10/dist-packages (from spacy) (3.0.9)\n",
            "Requirement already satisfied: thinc<8.2.0,>=8.1.8 in /usr/local/lib/python3.10/dist-packages (from spacy) (8.1.12)\n",
            "Requirement already satisfied: wasabi<1.2.0,>=0.9.1 in /usr/local/lib/python3.10/dist-packages (from spacy) (1.1.2)\n",
            "Requirement already satisfied: srsly<3.0.0,>=2.4.3 in /usr/local/lib/python3.10/dist-packages (from spacy) (2.4.8)\n",
            "Requirement already satisfied: catalogue<2.1.0,>=2.0.6 in /usr/local/lib/python3.10/dist-packages (from spacy) (2.0.10)\n",
            "Requirement already satisfied: typer<0.10.0,>=0.3.0 in /usr/local/lib/python3.10/dist-packages (from spacy) (0.9.0)\n",
            "Requirement already satisfied: pathy>=0.10.0 in /usr/local/lib/python3.10/dist-packages (from spacy) (0.11.0)\n",
            "Requirement already satisfied: smart-open<7.0.0,>=5.2.1 in /usr/local/lib/python3.10/dist-packages (from spacy) (6.4.0)\n",
            "Requirement already satisfied: tqdm<5.0.0,>=4.38.0 in /usr/local/lib/python3.10/dist-packages (from spacy) (4.66.1)\n",
            "Requirement already satisfied: numpy>=1.15.0 in /usr/local/lib/python3.10/dist-packages (from spacy) (1.23.5)\n",
            "Requirement already satisfied: requests<3.0.0,>=2.13.0 in /usr/local/lib/python3.10/dist-packages (from spacy) (2.31.0)\n",
            "Requirement already satisfied: pydantic!=1.8,!=1.8.1,<3.0.0,>=1.7.4 in /usr/local/lib/python3.10/dist-packages (from spacy) (1.10.14)\n",
            "Requirement already satisfied: jinja2 in /usr/local/lib/python3.10/dist-packages (from spacy) (3.1.3)\n",
            "Requirement already satisfied: setuptools in /usr/local/lib/python3.10/dist-packages (from spacy) (67.7.2)\n",
            "Requirement already satisfied: packaging>=20.0 in /usr/local/lib/python3.10/dist-packages (from spacy) (23.2)\n",
            "Requirement already satisfied: langcodes<4.0.0,>=3.2.0 in /usr/local/lib/python3.10/dist-packages (from spacy) (3.3.0)\n",
            "Requirement already satisfied: nltk>=3.1 in /usr/local/lib/python3.10/dist-packages (from textblob) (3.8.1)\n",
            "Requirement already satisfied: click in /usr/local/lib/python3.10/dist-packages (from nltk>=3.1->textblob) (8.1.7)\n",
            "Requirement already satisfied: joblib in /usr/local/lib/python3.10/dist-packages (from nltk>=3.1->textblob) (1.3.2)\n",
            "Requirement already satisfied: regex>=2021.8.3 in /usr/local/lib/python3.10/dist-packages (from nltk>=3.1->textblob) (2023.6.3)\n",
            "Requirement already satisfied: pathlib-abc==0.1.1 in /usr/local/lib/python3.10/dist-packages (from pathy>=0.10.0->spacy) (0.1.1)\n",
            "Requirement already satisfied: typing-extensions>=4.2.0 in /usr/local/lib/python3.10/dist-packages (from pydantic!=1.8,!=1.8.1,<3.0.0,>=1.7.4->spacy) (4.5.0)\n",
            "Requirement already satisfied: charset-normalizer<4,>=2 in /usr/local/lib/python3.10/dist-packages (from requests<3.0.0,>=2.13.0->spacy) (3.3.2)\n",
            "Requirement already satisfied: idna<4,>=2.5 in /usr/local/lib/python3.10/dist-packages (from requests<3.0.0,>=2.13.0->spacy) (3.6)\n",
            "Requirement already satisfied: urllib3<3,>=1.21.1 in /usr/local/lib/python3.10/dist-packages (from requests<3.0.0,>=2.13.0->spacy) (2.0.7)\n",
            "Requirement already satisfied: certifi>=2017.4.17 in /usr/local/lib/python3.10/dist-packages (from requests<3.0.0,>=2.13.0->spacy) (2023.11.17)\n",
            "Requirement already satisfied: blis<0.8.0,>=0.7.8 in /usr/local/lib/python3.10/dist-packages (from thinc<8.2.0,>=8.1.8->spacy) (0.7.11)\n",
            "Requirement already satisfied: confection<1.0.0,>=0.0.1 in /usr/local/lib/python3.10/dist-packages (from thinc<8.2.0,>=8.1.8->spacy) (0.1.4)\n",
            "Requirement already satisfied: MarkupSafe>=2.0 in /usr/local/lib/python3.10/dist-packages (from jinja2->spacy) (2.1.4)\n",
            "[nltk_data] Downloading package brown to /root/nltk_data...\n",
            "[nltk_data]   Package brown is already up-to-date!\n",
            "[nltk_data] Downloading package punkt to /root/nltk_data...\n",
            "[nltk_data]   Package punkt is already up-to-date!\n",
            "[nltk_data] Downloading package wordnet to /root/nltk_data...\n",
            "[nltk_data]   Package wordnet is already up-to-date!\n",
            "[nltk_data] Downloading package averaged_perceptron_tagger to\n",
            "[nltk_data]     /root/nltk_data...\n",
            "[nltk_data]   Package averaged_perceptron_tagger is already up-to-\n",
            "[nltk_data]       date!\n",
            "[nltk_data] Downloading package conll2000 to /root/nltk_data...\n",
            "[nltk_data]   Package conll2000 is already up-to-date!\n",
            "[nltk_data] Downloading package movie_reviews to /root/nltk_data...\n",
            "[nltk_data]   Package movie_reviews is already up-to-date!\n",
            "Finished.\n"
          ]
        }
      ],
      "source": [
        "!pip install spacy en_core_web_sm textblob\n",
        "!python -m textblob.download_corpora"
      ]
    },
    {
      "cell_type": "code",
      "execution_count": null,
      "metadata": {
        "id": "MlukKRdMBjui"
      },
      "outputs": [],
      "source": [
        "import pandas as pd\n",
        "df = pd.read_csv(\"https://raw.githubusercontent.com/j-rossi-nl/teaching-data/main/2024_TRTM/malawi_news_2019.txt\", sep=\"\\t\")"
      ]
    },
    {
      "cell_type": "markdown",
      "metadata": {
        "id": "KLU8YsWn4zhI"
      },
      "source": [
        "# Question 1 - Keyword Extraction"
      ]
    },
    {
      "cell_type": "markdown",
      "metadata": {
        "id": "24Of4aTcv_Yq"
      },
      "source": [
        "* Identify 5 unigram keywords per article\n",
        "* Identify 3 bigram keywords per article\n",
        "* Within a document, a keywords are terms (either unigram or bigram) with the highest TFIDF coefficient\n",
        "* Use TfidfVectorizer and set the parameters of the vectorizer\n",
        "* A keyword should not be a stopword\n",
        "* A keyword is lowercase\n",
        "* A keyword is a lemma\n",
        "* A keyword is a word with at least 2 letters\n",
        "* Store the keywords into 2 columns:\n",
        "  * `unigram_keywords` and `bigram_keywords`\n",
        "  * as a string with keywords separated by comma, such as `flood, food, river, ...` or `major flood, ...`"
      ]
    },
    {
      "cell_type": "code",
      "execution_count": null,
      "metadata": {
        "colab": {
          "base_uri": "https://localhost:8080/"
        },
        "id": "CszF7O4yaUCq",
        "outputId": "56f70131-58c3-4710-bbbd-bd65f4d1f675"
      },
      "outputs": [
        {
          "output_type": "stream",
          "name": "stderr",
          "text": [
            "[nltk_data] Downloading package stopwords to /root/nltk_data...\n",
            "[nltk_data]   Package stopwords is already up-to-date!\n",
            "[nltk_data] Downloading package punkt to /root/nltk_data...\n",
            "[nltk_data]   Package punkt is already up-to-date!\n",
            "[nltk_data] Downloading package wordnet to /root/nltk_data...\n",
            "[nltk_data]   Package wordnet is already up-to-date!\n"
          ]
        },
        {
          "output_type": "execute_result",
          "data": {
            "text/plain": [
              "True"
            ]
          },
          "metadata": {},
          "execution_count": 14
        }
      ],
      "source": [
        "#Imports and download extras\n",
        "import nltk\n",
        "from nltk.tokenize import word_tokenize\n",
        "from nltk.stem import WordNetLemmatizer\n",
        "from sklearn.feature_extraction.text import TfidfVectorizer\n",
        "from nltk.corpus import stopwords\n",
        "nltk.download('stopwords')\n",
        "nltk.download('punkt')\n",
        "nltk.download('wordnet')"
      ]
    },
    {
      "cell_type": "code",
      "execution_count": null,
      "metadata": {
        "id": "vxTQPwvDaT_9"
      },
      "outputs": [],
      "source": [
        "# Initialize stopwords and lemmatizer\n",
        "stop_words = set(stopwords.words('english'))\n",
        "lemmatizer = WordNetLemmatizer()\n",
        "\n",
        "# Apply preprocessing (tokenizer, lemmatizer, remove words shorter than two, set words to lowercase, remove stopwords)\n",
        "def preprocess_text(text):\n",
        "    tokens = word_tokenize(text)\n",
        "    tokens = [lemmatizer.lemmatize(token.lower()) for token in tokens if token.isalpha() and len(token) >= 2 and token.lower() not in stop_words]\n",
        "    return ' '.join(tokens)\n",
        "\n",
        "# Apply preprocessing function\n",
        "df['corpus'] = df['text'].apply(preprocess_text)\n",
        "\n",
        "# Create a TfidfVectorizer with unigrams and bigrams\n",
        "vectorizer_1gram = TfidfVectorizer(ngram_range=(1, 1))\n",
        "\n",
        "vectorizer_2gram = TfidfVectorizer(ngram_range=(2, 2))\n",
        "\n",
        "# Fit and transform the data\n",
        "tfidf_matrix_1gram = vectorizer_1gram.fit_transform(df['corpus'])\n",
        "\n",
        "tfidf_matrix_2gram = vectorizer_2gram.fit_transform(df['corpus'])\n",
        "\n",
        "# Get feature names (words) from the vectorizer\n",
        "feature_names_1gram = vectorizer_1gram.get_feature_names_out()\n",
        "\n",
        "feature_names_2gram = vectorizer_2gram.get_feature_names_out()\n",
        "\n",
        "# Convert the TF-IDF matrices to DataFrames for easier manipulation\n",
        "df_tfidf_1gram = pd.DataFrame(tfidf_matrix_1gram.toarray(), columns=feature_names_1gram)\n",
        "\n",
        "df_tfidf_2gram = pd.DataFrame(tfidf_matrix_2gram.toarray(), columns=feature_names_2gram)\n",
        "\n",
        "# Create columns to store top unigrams and bigrams\n",
        "df['top_unigrams'] = ''\n",
        "df['top_bigrams'] = ''\n",
        "\n",
        "# Iterate over each document to extract top unigrams and bigrams\n",
        "for i, document in enumerate(df['corpus']):\n",
        "    # Extract top 5 unigrams\n",
        "    top_unigrams = df_tfidf_1gram.iloc[i].nlargest(5).index.tolist()\n",
        "    df.at[i, 'top_unigrams'] = ', '.join(top_unigrams)\n",
        "\n",
        "    # Extract top 3 bigrams\n",
        "    top_bigrams = df_tfidf_2gram.iloc[i].nlargest(3).index.tolist()\n",
        "    df.at[i, 'top_bigrams'] = ', '.join(top_bigrams)"
      ]
    },
    {
      "cell_type": "code",
      "execution_count": null,
      "metadata": {
        "id": "E29JiiNqaT7Y"
      },
      "outputs": [],
      "source": [
        "# Move the relevant columns to a new dataframe in order to print it out\n",
        "df_assignment1 = df[['text', 'corpus', 'top_unigrams', 'top_bigrams']]\n"
      ]
    },
    {
      "cell_type": "code",
      "execution_count": null,
      "metadata": {
        "colab": {
          "base_uri": "https://localhost:8080/"
        },
        "id": "hKMVENVzaT4-",
        "outputId": "bac04529-14a1-4da5-91fe-d91fecc30b02"
      },
      "outputs": [
        {
          "output_type": "stream",
          "name": "stdout",
          "text": [
            "Requirement already satisfied: tabulate in /usr/local/lib/python3.10/dist-packages (0.9.0)\n",
            "+-------------------------------------------------------------------------------------------------------------------------------------------------------------------------------------------------------------------------------------------------------------------------------------------------------------------------------------------------------------------------------------------------------------------------------------------------------------------------------------------------------------------------------------------------------------------------------------------------------------------------------------------------------------------------------------------------------------------------------------------------------------------------------------------------------------------------------------------------------------------------------------------------------------------------------------------------------------------------------------------------------------------------------------------------------------------------------------------------------------------------------------------------------------------------------------------------------------------------------------------------------------------------------------------------------------------------------------------------------------------------------------------------------------------------------------------------------------------------------------------------------------------------------------------------------------------------------------------------------------------------------------------------------------------------------------------------------------------------------------------------------------------------------------------------------------------------------+--------------------------------------------------------------------------------------------------------------------------------------------------------------------------------------------------------------------------------------------------------------------------------------------------------------------------------------------------------------------------------------------------------------------------------------------------------------------------------------------------------------------------------------------------------------------------------------------------------------------------------------------------------------------------------------------------------------------------------------------------------------------------------------------------------------------------------------------------------------------------------------------------------------------------------------------------------------------------------------------------------------------------------------------------------------------------+------------------------------------------------+-----------------------------------------------------------------+\n",
            "| text                                                                                                                                                                                                                                                                                                                                                                                                                                                                                                                                                                                                                                                                                                                                                                                                                                                                                                                                                                                                                                                                                                                                                                                                                                                                                                                                                                                                                                                                                                                                                                                                                                                                                                                                                                                                                          | corpus                                                                                                                                                                                                                                                                                                                                                                                                                                                                                                                                                                                                                                                                                                                                                                                                                                                                                                                                                                                                                                                                   | top_unigrams                                   | top_bigrams                                                     |\n",
            "|-------------------------------------------------------------------------------------------------------------------------------------------------------------------------------------------------------------------------------------------------------------------------------------------------------------------------------------------------------------------------------------------------------------------------------------------------------------------------------------------------------------------------------------------------------------------------------------------------------------------------------------------------------------------------------------------------------------------------------------------------------------------------------------------------------------------------------------------------------------------------------------------------------------------------------------------------------------------------------------------------------------------------------------------------------------------------------------------------------------------------------------------------------------------------------------------------------------------------------------------------------------------------------------------------------------------------------------------------------------------------------------------------------------------------------------------------------------------------------------------------------------------------------------------------------------------------------------------------------------------------------------------------------------------------------------------------------------------------------------------------------------------------------------------------------------------------------+--------------------------------------------------------------------------------------------------------------------------------------------------------------------------------------------------------------------------------------------------------------------------------------------------------------------------------------------------------------------------------------------------------------------------------------------------------------------------------------------------------------------------------------------------------------------------------------------------------------------------------------------------------------------------------------------------------------------------------------------------------------------------------------------------------------------------------------------------------------------------------------------------------------------------------------------------------------------------------------------------------------------------------------------------------------------------+------------------------------------------------+-----------------------------------------------------------------|\n",
            "| Heavy rains which fell for about three hours in Lilongwe yesterday caused floods that washed away bridges and damaged houses.A videos shared on social media shows Chipasula Bridge crumbling due to the flooding.The newly built Kawale Bridge that connects town and Kawale was also damaged by the heavy rains.According to Department of Disaster Management Affairs, the floods also damaged houses and property in various townships.A preliminary report on the assessment conducted by the Lilongwe city council has indicated that 109 households (approximately 600 people) have been affected in Kaliyeka Township.Some of the areas which were affected by the floods include Biwi, Area 22, Chipasula Mchesi, Kawale and Area 36 Townships.Meanwhile Lilongwe City council continues to assess the extent of damage in the remaining townships and is expected to hand over a report to the Department Disaster Management Affairs.Minister of Homeland Security, Nicholas Dausi is also expected to visit the affected places on Friday.Recently, Mtandire area was effected by the floods where some people lost their lives and properties.Malawi floods death toll hits 28.                                                                                                                                                                                                                                                                                                                                                                                                                                                                                                                                                                                                                                  | heavy rain fell three hour lilongwe yesterday caused flood washed away bridge damaged video shared social medium show chipasula bridge crumbling due newly built kawale bridge connects town kawale also damaged heavy department disaster management affair flood also damaged house property various preliminary report assessment conducted lilongwe city council indicated household approximately people affected kaliyeka area affected flood include biwi area chipasula mchesi kawale area lilongwe city council continues ass extent damage remaining township expected hand report department disaster management homeland security nicholas dausi also expected visit affected place mtandire area effected flood people lost life flood death toll hit                                                                                                                                                                                                                                                                                                       | kawale, bridge, damaged, lilongwe, chipasula   | also damaged, lilongwe city, city council                       |\n",
            "| The Department of Disaster Management Affairs (DoDMA) says 28 people have died and 124 injuries following heavy rains that hit the Sour then Region last week.A total of 45, 312 households (approximately 226,560 people) have been affected in 14 affected districts across the country.The department continues to provide and coordinate search and rescue operations as well as the provision of relief assistance to the affected people.On Saturday, Minister of Homeland Security Nicholas Dausi, whose ministry is also responsible for disaster management affairs visited people and places affected by the floods in Chikwawa and Mulanje districts.Flanked by his deputy Charles Mchacha, Dausi assured the affected people of continued government support in form of search and rescue operations and provision of relief assistance.Heavy rains that poured from Tuesday caused flooding in 14 districts of the country, leading to the death of people, causing injuries and affecting thousands of households.President Prof. Arthur Peter Mutharika on Friday declared State of Disaster in areas hit by the on-going rains and floods.Government, through the Department of Disaster Management Affairs (DoDMA), in collaboration with the Malawi Defence Force, The Malawi Police Service and humanitarian partners deployed search and rescue teams in the affected areas. Government also dispatched relief items for distribution to the affected people.UN chief saddened by deaths caused by Malawi floods.                                                                                                                                                                                                                                                                                         | department disaster management affair dodma say people died injury following heavy rain hit sour region last total household approximately people affected affected district across department continues provide coordinate search rescue operation well provision relief assistance affected saturday minister homeland security nicholas dausi whose ministry also responsible disaster management affair visited people place affected flood chikwawa mulanje deputy charles mchacha dausi assured affected people continued government support form search rescue operation provision relief rain poured tuesday caused flooding district country leading death people causing injury affecting thousand arthur peter mutharika friday declared state disaster area hit rain department disaster management affair dodma collaboration malawi defence force malawi police service humanitarian partner deployed search rescue team affected area government also dispatched relief item distribution affected chief saddened death caused malawi flood               | search, rescue, provision, affected, operation | search rescue, provision relief, rescue operation               |\n",
            "| UN Secretary-General António Guterres has extended his condolences to the families of flood victims across Malawi.At least 28 people have died over the past week following heavy trains that caused flooding.In a statement released on Monday, Mr. Guterres said that he was “deeply saddened\" by the loss of life and the “significant damage to people’s homes and livelihoods\" caused by the heavy rains and subsequent flooding.The United Nations expressed its solidarity with the Malawian authorities, and committed to support them as they respond to the humanitarian needs of the population. The UN response has involved several main agencies.The World Food Programme (WFP) has deployed two boats to accompany the assessment and response; the UN Children’s’ Fund (UNICEF) is providing drones; and the UN Food and Agriculture Organization (FAO), in collaboration with the WFP, will support mapping using satellite imagery.Mutharika tells flood victims no one will die of hunger.                                                                                                                                                                                                                                                                                                                                                                                                                                                                                                                                                                                                                                                                                                                                                                                                                 | un antónio guterres extended condolence family flood victim across least people died past week following heavy train caused statement released monday guterres said deeply saddened loss life significant damage people home livelihood caused heavy rain subsequent united nation expressed solidarity malawian authority committed support respond humanitarian need population un response involved several main world food programme wfp deployed two boat accompany assessment response un child fund unicef providing drone un food agriculture organization fao collaboration wfp support mapping using satellite tell flood victim one die hunger                                                                                                                                                                                                                                                                                                                                                                                                                | un, guterres, wfp, caused, antónio             | agriculture organization, antónio guterres, authority committed |\n",
            "| President Peter Mutharika on Tuesday assured Malawians affected by the recent disaster that no one will die of hunger as government will ensure a timely response with relief items to the victims.Mutharika said this when he visited some of the victims from Balaka at Kanyimbo Primary school ground in the area of Traditional Authority Nkaya before proceeding to Mangochi.“I was in the northern region for other official duties but I had to cancel my programs just to visit all the districts that have been hit by the disaster.“Right now I am proceeding to Mangochi and tomorrow I will be in Zomba and Machinga, until I visit all the 10 districts that have been affected by the disaster. Let me assure you that no one is going to die of hunger as long as I am the President of this country,\" said Mutharika.He then said he had instructed that cement and iron sheets be made available to all the affected households from the Descent Affordable Housing Subsidy program to ensure that they are able to rebuild their houses in time.On his part, Traditional Authority Mkaya hailed the president for the gesture describing it as timely.“As you have seen for yourself, your Excellency, people are suffering here, and your coming has brought hope as the people will have food, and shelter for their wellbeing,\" he said.During the function, President Mutharika presented symbolically relief items to some of the affected people.Six people died and 66 others were injured, while over 13 thousand families were rendered homeless in Balaka following the rains which hit most areas of the Southern region, and the affected have sought refuge in nearby schools.Source: ManaFloods affect thousands of learners.                                                                 | president peter mutharika tuesday assured malawian affected recent disaster one die hunger government ensure timely response relief item said visited victim balaka kanyimbo primary school ground area traditional authority nkaya proceeding northern region official duty cancel program visit district hit right proceeding mangochi tomorrow zomba machinga visit district affected disaster let assure one going die hunger long president country said said instructed cement iron sheet made available affected household descent affordable housing subsidy program ensure able rebuild house part traditional authority mkaya hailed president gesture describing seen excellency people suffering coming brought hope people food shelter wellbeing function president mutharika presented symbolically relief item affected people died others injured thousand family rendered homeless balaka following rain hit area southern region affected sought refuge nearby manafloods affect thousand learner                                                     | proceeding, president, balaka, hunger, program | visit district, die hunger, traditional authority               |\n",
            "| From smiles of rains that crops are to grow, sorrow followed after the heavy downpour that lasted for a couple of days a week ago leading to floods in many districts across Malawi.At least 56 people have been recorded to have died due to the floods according to the Department of Disaster Management Affairs (DODMA) while 557 have been injured.A total of 184,589 households have been affected with an approximate of 922,949 people being forced to abandon their shattered homes to nearby camps.An assessment done in Phalombe district revealed that a total of 1152 learners who are boys and 1341 learners who are girls have affected by the floods from 8 schools zones in the district.Responding to the disaster, various stakeholders have donated relief items to the victims across the country, among the items being blankets, buckets, maize flour.Though the response to the victims has been noted to be quite good, stakeholders have failed to come to the rescue of school going students who have lost their books and notebooks due to the floods.Spot checks in some camps in Phalombe district showed students drying their notebooks on the sun for them to use in schools.Rhoda Kimu from Bona village explained that most of the learners have lost their school materials due to the floods that hit the district.“We have lost our domestic animals, houses, everything that we were depending on and we need to start rebuilding what we had before the floods\" said Kimu.Her explanation to the calamity coupled by poverty to many citizens in the rural set up who are also recorded to have been affected due to improper housing, reveal that many parents are to fail to provide school necessities like notebooks.      Blantyre Press Club organizes show for flood victims. | smile rain crop grow sorrow followed heavy downpour lasted couple day week ago leading flood many district across least people recorded died due flood according department disaster management affair dodma total household affected approximate people forced abandon shattered home nearby assessment done phalombe district revealed total learner boy learner girl affected flood school zone disaster various stakeholder donated relief item victim across country among item blanket bucket maize response victim noted quite good stakeholder failed come rescue school going student lost book notebook due check camp phalombe district showed student drying notebook sun use kimu bona village explained learner lost school material due flood hit lost domestic animal house everything depending need start rebuilding flood said explanation calamity coupled poverty many citizen rural set also recorded affected due improper housing reveal many parent fail provide school necessity like notebook blantyre press club organizes show flood victim | notebook, learner, school, student, many       | phalombe district, due flood, abandon shattered                 |\n",
            "+-------------------------------------------------------------------------------------------------------------------------------------------------------------------------------------------------------------------------------------------------------------------------------------------------------------------------------------------------------------------------------------------------------------------------------------------------------------------------------------------------------------------------------------------------------------------------------------------------------------------------------------------------------------------------------------------------------------------------------------------------------------------------------------------------------------------------------------------------------------------------------------------------------------------------------------------------------------------------------------------------------------------------------------------------------------------------------------------------------------------------------------------------------------------------------------------------------------------------------------------------------------------------------------------------------------------------------------------------------------------------------------------------------------------------------------------------------------------------------------------------------------------------------------------------------------------------------------------------------------------------------------------------------------------------------------------------------------------------------------------------------------------------------------------------------------------------------+--------------------------------------------------------------------------------------------------------------------------------------------------------------------------------------------------------------------------------------------------------------------------------------------------------------------------------------------------------------------------------------------------------------------------------------------------------------------------------------------------------------------------------------------------------------------------------------------------------------------------------------------------------------------------------------------------------------------------------------------------------------------------------------------------------------------------------------------------------------------------------------------------------------------------------------------------------------------------------------------------------------------------------------------------------------------------+------------------------------------------------+-----------------------------------------------------------------+\n"
          ]
        }
      ],
      "source": [
        "#Use tabulate to print out the dataframe with a clearer format and a wider column width\n",
        "from tabulate import tabulate\n",
        "!pip install tabulate\n",
        "import pandas as pd\n",
        "from tabulate import tabulate\n",
        "\n",
        "\n",
        "pd.set_option('display.max_columns', None)  # Ensure all columns are shown\n",
        "pd.set_option('display.colheader_justify', 'center')  # Center-justify column headers\n",
        "\n",
        "\n",
        "print(tabulate(df_assignment1.head(), headers='keys', tablefmt='psql', showindex=\"never\"))\n"
      ]
    },
    {
      "cell_type": "markdown",
      "metadata": {
        "id": "N1vIh7kR5WSD"
      },
      "source": [
        "#Question 2 - Sentiment Polarity"
      ]
    },
    {
      "cell_type": "markdown",
      "metadata": {
        "id": "vHMigVAtyW8_"
      },
      "source": [
        "* Use Spacy Text Blob to assess the sentiment polarity of each news article\n",
        "* Store this polarity number in a new column `\"polarity\"`\n",
        "* Plot the distribution of the polarity across the corpus\n",
        "* Create a machine learning pipeline to discover the words mostly associated to a positive polarity\n",
        "  * CountVectorizer is used for vectorization\n",
        "  * LogisticRegression will be used for classification with no intercept\n",
        "  * Classify whether the sentiment polarity is negative or positive\n",
        "  * Tune the hyperparameters:\n",
        "    * `C` of LogisticRegression should be 5 values evenly spaced logarithmically from `10**-2` to `10**2`\n",
        "    * limit the vocabulary to `100` words or no limit\n",
        "* Evaluate and report on your model\n",
        "* Show the 3 words with the highest weight"
      ]
    },
    {
      "cell_type": "code",
      "execution_count": null,
      "metadata": {
        "colab": {
          "base_uri": "https://localhost:8080/",
          "height": 698
        },
        "id": "e8CsqHKWZ9hL",
        "outputId": "9fcf86a0-7fbf-4bda-8059-4d78454fd799"
      },
      "outputs": [
        {
          "output_type": "display_data",
          "data": {
            "text/plain": [
              "<Figure size 640x480 with 1 Axes>"
            ],
            "image/png": "[encoded data removed]"
          },
          "metadata": {}
        },
        {
          "output_type": "stream",
          "name": "stdout",
          "text": [
            "Best Parameters: {'countvectorizer__max_features': None, 'logisticregression__C': 10.0}\n",
            "Accuracy: 0.7142857142857143\n",
            "Classification Report:\n",
            "               precision    recall  f1-score   support\n",
            "\n",
            "           0       0.71      0.45      0.56        11\n",
            "           1       0.71      0.88      0.79        17\n",
            "\n",
            "    accuracy                           0.71        28\n",
            "   macro avg       0.71      0.67      0.67        28\n",
            "weighted avg       0.71      0.71      0.70        28\n",
            "\n",
            "Top three words with the highest weight: ['country', 'part', 'need']\n"
          ]
        }
      ],
      "source": [
        "import spacy\n",
        "from textblob import TextBlob\n",
        "import numpy as np\n",
        "from sklearn.feature_extraction.text import CountVectorizer\n",
        "from sklearn.linear_model import LogisticRegression\n",
        "from sklearn.model_selection import train_test_split\n",
        "from sklearn.pipeline import make_pipeline\n",
        "from sklearn.model_selection import GridSearchCV\n",
        "from sklearn.metrics import classification_report, accuracy_score\n",
        "import matplotlib.pyplot as plt\n",
        "\n",
        "# Load the small model for English\n",
        "nlp = spacy.load(\"en_core_web_sm\")\n",
        "\n",
        "# Function to get sentiment polarity using spacy TextBlobs\n",
        "def get_sentiment_polarity(text):\n",
        "    doc = nlp(text)\n",
        "    blob = TextBlob(doc.text)\n",
        "    return blob.sentiment.polarity\n",
        "\n",
        "# Apply sentiment analysis and store polarity in a new column named \"polarity\" under the dataframe\n",
        "df['polarity'] = df['text'].apply(get_sentiment_polarity)\n",
        "\n",
        "# Plot the distribution of sentiment polarity\n",
        "plt.hist(df['polarity'], bins=20, edgecolor='black')\n",
        "plt.title('Distribution of Sentiment Polarity')\n",
        "plt.xlabel('Sentiment Polarity')\n",
        "plt.ylabel('Frequency')\n",
        "plt.show()\n",
        "\n",
        "# Create a machine learning pipeline\n",
        "pipeline = make_pipeline(CountVectorizer(), LogisticRegression(solver='liblinear', random_state=42, class_weight='balanced'))\n",
        "\n",
        "# Define parameter grid for tuning\n",
        "param_grid = {\n",
        "    'countvectorizer__max_features': [100, None],\n",
        "    'logisticregression__C': np.logspace(-2, 2, 5)\n",
        "}\n",
        "\n",
        "# Split the data into training and testing sets\n",
        "X_train, X_test, y_train, y_test = train_test_split(df['corpus'], (df['polarity'] > 0).astype(int), test_size=0.2, random_state=42)\n",
        "\n",
        "\n",
        "# Gridsearch to find the best hyperparameters\n",
        "grid_search = GridSearchCV(pipeline, param_grid, cv=5, scoring='accuracy')\n",
        "grid_search.fit(X_train, y_train)\n",
        "\n",
        "# Retrieve the best parameters & print\n",
        "best_params = grid_search.best_params_\n",
        "print(\"Best Parameters:\", best_params)\n",
        "\n",
        "# Evaluate the model\n",
        "y_pred = grid_search.predict(X_test)\n",
        "print(\"Accuracy:\", accuracy_score(y_test, y_pred))\n",
        "print(\"Classification Report:\\n\", classification_report(y_test, y_pred))\n",
        "\n",
        "# Get the feature names from CountVectorizer\n",
        "feature_names = grid_search.best_estimator_.named_steps['countvectorizer'].get_feature_names_out()\n",
        "\n",
        "# Get the coefficients of the Logistic Regression model\n",
        "coefficients = grid_search.best_estimator_.named_steps['logisticregression'].coef_[0]\n",
        "\n",
        "# Extract the top three words with the highest weight\n",
        "top_words_indices = coefficients.argsort()[-3:][::-1]\n",
        "top_words = [feature_names[i] for i in top_words_indices]\n",
        "\n",
        "print(\"Top three words with the highest weight:\", top_words)"
      ]
    },
    {
      "cell_type": "markdown",
      "metadata": {
        "id": "KdcR5VJ2IevB"
      },
      "source": [
        "### Model Evaluation\n",
        "- The model has an accuracy score of 0.71, which entails that it managed to correctly make the positive predictions in 71% out of the total cases.\n",
        "\n",
        "- Precision is the ratio between number of true positive instances over the sum of the number of true positive instances and false negative instances, and it is used when the cost of false positives is high. In this case, the precision is 0.71.\n",
        "- Recall is the ratio between the number of true positive instances over the sum of the number of true positive instances and false positive instances, and it is used when the cost of false negatives is high. In this case, the recall is 0.88.\n",
        "- The F-1 score is the harmonic average of precision and recall, and it is used when we want to have a balance between precision and recall. In this case, the F-1 score is 0.71.\n",
        "\n",
        "It is worth noting that the macro-metrics are computed as the unweighted average of the metrics for each class, and they are especially important when dealing with class imbalances. We observe here that the macro-metrics are comparable to the micro-metrics, therefore we may conclude that we are not dealing with an imbalanced dataset.\n",
        "\n",
        "The top three words are 'country', 'part' and 'need', which suggests that these three words are the most associated with a positive sentiment polarity.\n",
        "\n",
        "Overall the model is considered to perform well on all evaluated metrics."
      ]
    },
    {
      "cell_type": "markdown",
      "metadata": {
        "id": "hT1Erg7t5Wd6"
      },
      "source": [
        "# Question 3 - Entities\n",
        "\n"
      ]
    },
    {
      "cell_type": "markdown",
      "metadata": {
        "id": "jNwGkd0K8guB"
      },
      "source": [
        "* An **ENTITY** is a word, or group of multiple words that is of a particular type (\"one\" and \"two thousands\" are numbers, \"September 1st 2023\" and \"01-09-2023\" are dates, \"Michael Jordan\" is a person's name, \"River Gange\" is a place's name)\n",
        "* Identifying entities in a text is a \"Named Entity Recognition\" task\n",
        "* You can check this in the Spacy [Documentation](https://spacy.io/universe/project/video-spacys-ner-model-alt)\n",
        "* Use Spacy to identify all of the named entities in the articles\n",
        "* Use the model `en_core_web_sm`\n",
        "* Create a dataframe `entities` with columns `text` and `label`\n",
        "* Which are the top-3 most frequent labels ?\n",
        "* Which are the top-3 most frequent entity text for \"ORG\" label ?\n",
        "* Same question for the \"PERSON\" label ?"
      ]
    },
    {
      "cell_type": "code",
      "execution_count": null,
      "metadata": {
        "colab": {
          "base_uri": "https://localhost:8080/"
        },
        "id": "Q9rrj9YsadfB",
        "outputId": "40304e71-f22a-43c3-b5a0-babb887d9698"
      },
      "outputs": [
        {
          "output_type": "stream",
          "name": "stdout",
          "text": [
            "           corpus         label  \n",
            "0            three hour      TIME\n",
            "1              lilongwe    PERSON\n",
            "2             yesterday      DATE\n",
            "3         kawale bridge       ORG\n",
            "4                kawale       ORG\n",
            "...                 ...       ...\n",
            "1533                one  CARDINAL\n",
            "1534  benedicto kondowe    PERSON\n",
            "1535            kondowe    PERSON\n",
            "1536             malawi    PERSON\n",
            "1537      wilson moleni    PERSON\n",
            "\n",
            "[1538 rows x 2 columns]\n",
            "\n",
            "Top-3 most frequent labels:\n",
            "PERSON      446\n",
            "DATE        282\n",
            "CARDINAL    279\n",
            "\n",
            "Top-3 most frequent entity text for 'ORG' label:\n",
            "idai                11\n",
            "malawi red cross    10\n",
            "un                   9\n",
            "\n",
            "Top-3 most frequent entity text for 'PERSON' label:\n",
            "malawi             88\n",
            "nicholas dausi     22\n",
            "peter mutharika    20\n"
          ]
        }
      ],
      "source": [
        "import spacy\n",
        "\n",
        "# Reload model for English\n",
        "nlp = spacy.load(\"en_core_web_sm\")\n",
        "\n",
        "# Define function to extract named entities from text\n",
        "def extract_entities(text):\n",
        "    doc = nlp(text)\n",
        "    entities = [(ent.text, ent.label_) for ent in doc.ents]\n",
        "    return entities\n",
        "\n",
        "# Apply the entity extraction and store results in a new column \"entities\" in the dataframe\n",
        "df['entities'] = df['corpus'].apply(extract_entities)\n",
        "\n",
        "# Flatten the list of entities in each row\n",
        "flat_entities = [entity for sublist in df['entities'] for entity in sublist]\n",
        "\n",
        "# Create a DataFrame with columns 'text' and 'label'\n",
        "entities_df = pd.DataFrame(flat_entities, columns=['corpus', 'label'])\n",
        "\n",
        "# Display the entities DataFrame\n",
        "print(entities_df)\n",
        "\n",
        "# Top-3 most frequent labels\n",
        "top_labels = entities_df['label'].value_counts().nlargest(3)\n",
        "print(\"\\nTop-3 most frequent labels:\")\n",
        "print(top_labels.to_string()) # Convert to string to surpess string representation of pandas\n",
        "\n",
        "# Top-3 most frequent entity text for \"ORG\" label\n",
        "top_org_entities = entities_df[entities_df['label'] == 'ORG']['corpus'].value_counts().nlargest(3)\n",
        "print(\"\\nTop-3 most frequent entity text for 'ORG' label:\")\n",
        "print(top_org_entities.to_string()) # Convert to string to surpess string representation of pandas\n",
        "\n",
        "# Top-3 most frequent entity text for \"PERSON\" label\n",
        "top_person_entities = entities_df[entities_df['label'] == 'PERSON']['corpus'].value_counts().nlargest(3)\n",
        "print(\"\\nTop-3 most frequent entity text for 'PERSON' label:\")\n",
        "print(top_person_entities.to_string()) # Convert to string to surpess string representation of pandas"
      ]
    }
  ],
  "metadata": {
    "colab": {
      "provenance": []
    },
    "gpuClass": "standard",
    "kernelspec": {
      "display_name": "Python 3",
      "name": "python3"
    },
    "language_info": {
      "name": "python"
    }
  },
  "nbformat": 4,
  "nbformat_minor": 0
}